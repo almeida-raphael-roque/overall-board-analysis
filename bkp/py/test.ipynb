{
 "cells": [
  {
   "cell_type": "code",
   "execution_count": 2,
   "id": "2f3f19ce",
   "metadata": {},
   "outputs": [],
   "source": [
    "import pandas as pd\n",
    "import awswrangler as awr\n",
    "import openpyxl"
   ]
  },
  {
   "cell_type": "code",
   "execution_count": 42,
   "id": "bac2848a",
   "metadata": {},
   "outputs": [],
   "source": [
    "sql_path = r\"C:\\Users\\raphael.almeida\\Documents\\Processos\\placas_acompanhamento\\sql\\all_boards_ATIVOS.sql\"\n",
    "with open (sql_path, 'r') as file:\n",
    "    query = file.read()\n",
    "\n",
    "df = awr.athena.read_sql_query(query, database='silver')"
   ]
  },
  {
   "cell_type": "code",
   "execution_count": 43,
   "id": "b5aa05e8",
   "metadata": {},
   "outputs": [],
   "source": [
    "df_total = df.drop_duplicates(subset=['chassi', 'placa'])\n"
   ]
  },
  {
   "cell_type": "code",
   "execution_count": 46,
   "id": "113810c1",
   "metadata": {},
   "outputs": [
    {
     "data": {
      "text/plain": [
       "32242"
      ]
     },
     "execution_count": 46,
     "metadata": {},
     "output_type": "execute_result"
    }
   ],
   "source": [
    "df_total[df_total['status']=='ATIVO'].count()\n",
    "\n",
    "df_total2 = df_total.drop_duplicates(subset='placa')\n",
    "df_total2['placa'].nunique()"
   ]
  },
  {
   "cell_type": "code",
   "execution_count": 9,
   "id": "97fa4c65",
   "metadata": {},
   "outputs": [
    {
     "data": {
      "text/plain": [
       "0         ATIVO\n",
       "1         ATIVO\n",
       "2         ATIVO\n",
       "4         ATIVO\n",
       "5         ATIVO\n",
       "          ...  \n",
       "103581    ATIVO\n",
       "103582    ATIVO\n",
       "103587    ATIVO\n",
       "103600    ATIVO\n",
       "103607    ATIVO\n",
       "Name: status, Length: 32483, dtype: string"
      ]
     },
     "execution_count": 9,
     "metadata": {},
     "output_type": "execute_result"
    }
   ],
   "source": [
    "df_total['status']\n"
   ]
  },
  {
   "cell_type": "markdown",
   "id": "9f607a16",
   "metadata": {},
   "source": [
    "# validação"
   ]
  },
  {
   "cell_type": "code",
   "execution_count": 41,
   "id": "c740eee7",
   "metadata": {},
   "outputs": [
    {
     "name": "stdout",
     "output_type": "stream",
     "text": [
      "<class 'pandas.core.frame.DataFrame'>\n",
      "Index: 17393 entries, 0 to 103600\n",
      "Data columns (total 23 columns):\n",
      " #   Column                   Non-Null Count  Dtype         \n",
      "---  ------                   --------------  -----         \n",
      " 0   placa                    17393 non-null  string        \n",
      " 1   chassi                   17393 non-null  string        \n",
      " 2   id_placa                 17393 non-null  Int64         \n",
      " 3   id_veiculo               17393 non-null  Int64         \n",
      " 4   id_carroceria            4410 non-null   Int64         \n",
      " 5   matricula                17393 non-null  Int64         \n",
      " 6   conjunto                 17393 non-null  Int64         \n",
      " 7   unidade                  17391 non-null  string        \n",
      " 8   consultor                17345 non-null  string        \n",
      " 9   status                   17393 non-null  string        \n",
      " 10  cliente                  17393 non-null  string        \n",
      " 11  data                     17393 non-null  datetime64[ns]\n",
      " 12  data_ativacao            17393 non-null  datetime64[ns]\n",
      " 13  suporte                  15736 non-null  string        \n",
      " 14  data_filtro              17393 non-null  object        \n",
      " 15  empresa                  17393 non-null  string        \n",
      " 16  coverage                 17393 non-null  Int64         \n",
      " 17  beneficio                17393 non-null  string        \n",
      " 18  categoria                17393 non-null  string        \n",
      " 19  tipo_categoria           17393 non-null  string        \n",
      " 20  data_ativacao_beneficio  17393 non-null  object        \n",
      " 21  status_beneficio         17393 non-null  string        \n",
      " 22  data_atualizacao         17393 non-null  datetime64[ns]\n",
      "dtypes: Int64(6), datetime64[ns](3), object(2), string(12)\n",
      "memory usage: 3.3+ MB\n"
     ]
    }
   ],
   "source": [
    "df_conjuntos = df.drop_duplicates(subset=['conjunto', 'matricula', 'empresa'])\n",
    "#df_conjuntos[['data_ativacao']].sort_values(by='data_ativacao',ascending=False)\n",
    "df_conjuntos.info()"
   ]
  },
  {
   "cell_type": "code",
   "execution_count": 20,
   "id": "7d03c502",
   "metadata": {},
   "outputs": [
    {
     "name": "stdout",
     "output_type": "stream",
     "text": [
      "2025-07-14 00:00:00\n"
     ]
    }
   ],
   "source": [
    "today = pd.Timestamp.today().normalize()\n",
    "yesterday = today - pd.Timedelta(1, unit='day')\n",
    "friday = today - pd.Timedelta(3, unit='day')\n",
    "\n",
    "if today.day == 0:\n",
    "    date = friday\n",
    "else:\n",
    "    date = yesterday\n",
    "\n",
    "print(date)"
   ]
  },
  {
   "cell_type": "code",
   "execution_count": 31,
   "id": "b40df15a",
   "metadata": {},
   "outputs": [
    {
     "data": {
      "text/plain": [
       "0        2025-06-08\n",
       "1        2024-10-26\n",
       "2        2024-11-20\n",
       "3        2024-11-20\n",
       "4        2025-02-08\n",
       "            ...    \n",
       "103609   2024-09-17\n",
       "103610   2024-09-17\n",
       "103611   2025-06-09\n",
       "103612   2025-06-09\n",
       "103613   2024-09-18\n",
       "Name: data_ativacao, Length: 103614, dtype: datetime64[ns]"
      ]
     },
     "execution_count": 31,
     "metadata": {},
     "output_type": "execute_result"
    }
   ],
   "source": [
    "df['data_ativacao'] = pd.to_datetime(df['data_ativacao']).dt.normalize()\n",
    "df['data_ativacao']\n"
   ]
  },
  {
   "cell_type": "markdown",
   "id": "c68c317c",
   "metadata": {},
   "source": [
    "validação dia 8"
   ]
  },
  {
   "cell_type": "code",
   "execution_count": 40,
   "id": "7b67826d",
   "metadata": {},
   "outputs": [
    {
     "data": {
      "text/plain": [
       "empresa\n",
       "Viavante    91\n",
       "Stcoop       2\n",
       "Name: count, dtype: int64"
      ]
     },
     "execution_count": 40,
     "metadata": {},
     "output_type": "execute_result"
    }
   ],
   "source": [
    "random_date = pd.to_datetime('2025-07-07').normalize()  \n",
    "df_validacao3 = df_conjuntos[df_conjuntos['data_ativacao']==random_date]\n",
    "df_validacao3.value_counts(subset='empresa')\n",
    "#df_validacao3[df_validacao3['empresa']=='Viavante'].value_counts('status')"
   ]
  }
 ],
 "metadata": {
  "kernelspec": {
   "display_name": "env",
   "language": "python",
   "name": "python3"
  },
  "language_info": {
   "codemirror_mode": {
    "name": "ipython",
    "version": 3
   },
   "file_extension": ".py",
   "mimetype": "text/x-python",
   "name": "python",
   "nbconvert_exporter": "python",
   "pygments_lexer": "ipython3",
   "version": "3.12.4"
  }
 },
 "nbformat": 4,
 "nbformat_minor": 5
}
